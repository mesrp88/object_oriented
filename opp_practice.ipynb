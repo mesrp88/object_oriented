{
  "nbformat": 4,
  "nbformat_minor": 0,
  "metadata": {
    "colab": {
      "name": "opp_practice.ipynb",
      "provenance": [],
      "authorship_tag": "ABX9TyPJu87/mmtKevkxASKY2IeG",
      "include_colab_link": true
    },
    "kernelspec": {
      "name": "python3",
      "display_name": "Python 3"
    },
    "language_info": {
      "name": "python"
    }
  },
  "cells": [
    {
      "cell_type": "markdown",
      "metadata": {
        "id": "view-in-github",
        "colab_type": "text"
      },
      "source": [
        "<a href=\"https://colab.research.google.com/github/mesrp88/object_oriented/blob/main/opp_practice.ipynb\" target=\"_parent\"><img src=\"https://colab.research.google.com/assets/colab-badge.svg\" alt=\"Open In Colab\"/></a>"
      ]
    },
    {
      "cell_type": "code",
      "metadata": {
        "id": "ewBWqG1Z9F8t"
      },
      "source": [
        "class MyClass:\n",
        "  pass"
      ],
      "execution_count": 2,
      "outputs": []
    },
    {
      "cell_type": "code",
      "metadata": {
        "colab": {
          "base_uri": "https://localhost:8080/"
        },
        "id": "YjsoSNvMBCCT",
        "outputId": "7f158ac4-6bc1-48bb-93ed-9028b24cf5fe"
      },
      "source": [
        "class MyClass:\n",
        "  pass\n",
        "my_instance= MyClass() #difining instance\n",
        "print(type(my_instance))\n"
      ],
      "execution_count": 3,
      "outputs": [
        {
          "output_type": "stream",
          "text": [
            "<class '__main__.MyClass'>\n"
          ],
          "name": "stdout"
        }
      ]
    },
    {
      "cell_type": "code",
      "metadata": {
        "colab": {
          "base_uri": "https://localhost:8080/"
        },
        "id": "cgCgTkCRlAGv",
        "outputId": "5cc16ffa-4c0f-4a19-8bcb-0ea6e43bb3c1"
      },
      "source": [
        "#lets create method inside class\n",
        "class MyClass:\n",
        "  def first_method():  \n",
        "    return 'This is my first method'\n",
        "my_instance= MyClass.first_method()\n",
        "print(my_instance)"
      ],
      "execution_count": 5,
      "outputs": [
        {
          "output_type": "stream",
          "text": [
            "This is my first method\n"
          ],
          "name": "stdout"
        }
      ]
    },
    {
      "cell_type": "code",
      "metadata": {
        "colab": {
          "base_uri": "https://localhost:8080/"
        },
        "id": "7XiQYYKx_g5W",
        "outputId": "39054548-aa2b-44b2-f9bc-277cff19f1f8"
      },
      "source": [
        "class MyClass:\n",
        "    \n",
        "    def first_method(self):\n",
        "        return \"This is my first method\"\n",
        "    \n",
        "my_instance= MyClass()\n",
        "result=my_instance.first_method()\n",
        "print(result)"
      ],
      "execution_count": 7,
      "outputs": [
        {
          "output_type": "stream",
          "text": [
            "This is my first method\n"
          ],
          "name": "stdout"
        }
      ]
    },
    {
      "cell_type": "code",
      "metadata": {
        "colab": {
          "base_uri": "https://localhost:8080/"
        },
        "id": "hJ9GJc_0BgzE",
        "outputId": "95095004-3bea-4639-9453-3cadb4dd8087"
      },
      "source": [
        "class MyClass:\n",
        "    \n",
        "    def first_method(self):\n",
        "        return \"This is my first method\"\n",
        "    \n",
        "    # Add method here\n",
        "    def return_list(self, input_list):\n",
        "        return input_list\n",
        "    \n",
        "my_instance= MyClass()\n",
        "result= my_instance.return_list([1,2,3])\n",
        "print(result)"
      ],
      "execution_count": 9,
      "outputs": [
        {
          "output_type": "stream",
          "text": [
            "[1, 2, 3]\n"
          ],
          "name": "stdout"
        }
      ]
    },
    {
      "cell_type": "code",
      "metadata": {
        "colab": {
          "base_uri": "https://localhost:8080/",
          "height": 35
        },
        "id": "M7A1mKyPIS6e",
        "outputId": "85aa225c-be44-4674-a520-d983ba002f27"
      },
      "source": [
        "class ExampleClass:\n",
        "\n",
        "    def __init__(self, string):\n",
        "        self.my_attribute = string\n",
        "\n",
        "mc = ExampleClass(\"Hola!\")\n",
        "mc.my_attribute"
      ],
      "execution_count": 14,
      "outputs": [
        {
          "output_type": "execute_result",
          "data": {
            "application/vnd.google.colaboratory.intrinsic+json": {
              "type": "string"
            },
            "text/plain": [
              "'Hola!'"
            ]
          },
          "metadata": {
            "tags": []
          },
          "execution_count": 14
        }
      ]
    },
    {
      "cell_type": "code",
      "metadata": {
        "colab": {
          "base_uri": "https://localhost:8080/"
        },
        "id": "CXDgSy_zKlRl",
        "outputId": "d0bdc85c-813e-412a-ff98-0fc4104806d0"
      },
      "source": [
        "class MyList:\n",
        "    def __init__(self, initial_data):\n",
        "        self.data= initial_data\n",
        "        \n",
        "my_list= MyList([1,2,3,4,5])\n",
        "print(my_list.data)"
      ],
      "execution_count": 16,
      "outputs": [
        {
          "output_type": "stream",
          "text": [
            "[1, 2, 3, 4, 5]\n"
          ],
          "name": "stdout"
        }
      ]
    },
    {
      "cell_type": "code",
      "metadata": {
        "colab": {
          "base_uri": "https://localhost:8080/"
        },
        "id": "N_rvbCdSNfW2",
        "outputId": "97d36f91-6c10-4610-a57c-29446f58522e"
      },
      "source": [
        "class MyList:\n",
        "\n",
        "    def __init__(self, initial_data):\n",
        "        self.data = initial_data\n",
        "        \n",
        "    # Add method here\n",
        "    def append(self, new_item):\n",
        "        self.data= self.data+[new_item]\n",
        "        \n",
        "        \n",
        "my_list= MyList([1,2,3,4,5])\n",
        "print(my_list.data)\n",
        "my_list.append(6)\n",
        "print(my_list.data)"
      ],
      "execution_count": 17,
      "outputs": [
        {
          "output_type": "stream",
          "text": [
            "[1, 2, 3, 4, 5]\n",
            "[1, 2, 3, 4, 5, 6]\n"
          ],
          "name": "stdout"
        }
      ]
    },
    {
      "cell_type": "code",
      "metadata": {
        "colab": {
          "base_uri": "https://localhost:8080/"
        },
        "id": "IubafaHoPkCW",
        "outputId": "09e33d96-d230-489d-ea08-9ece60db3233"
      },
      "source": [
        "class MyList:\n",
        "\n",
        "    def __init__(self, initial_data):\n",
        "        self.data = initial_data\n",
        "        # Calculate the initial length\n",
        "        self.length = 0\n",
        "        for item in self.data:\n",
        "            self.length += 1\n",
        "\n",
        "    def append(self, new_item):\n",
        "        self.data = self.data + [new_item]\n",
        "        # Update the length here\n",
        "        self.length+=1\n",
        "        \n",
        "my_list= MyList([1,2,3,4,5])\n",
        "print(my_list.length)\n",
        "my_list.append(8)\n",
        "print(my_list.length)\n",
        "my_list.append(8)\n",
        "print(my_list.length)\n",
        "print(my_list.data)"
      ],
      "execution_count": 20,
      "outputs": [
        {
          "output_type": "stream",
          "text": [
            "5\n",
            "6\n",
            "7\n",
            "[1, 2, 3, 4, 5, 8, 8]\n"
          ],
          "name": "stdout"
        }
      ]
    },
    {
      "cell_type": "code",
      "metadata": {
        "id": "XaE5RKSfSvi1"
      },
      "source": [
        ""
      ],
      "execution_count": null,
      "outputs": []
    }
  ]
}